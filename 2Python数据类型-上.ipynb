{
 "cells": [
  {
   "cell_type": "markdown",
   "metadata": {},
   "source": [
    "## 《Python程序设计》2020秋季\n",
    "**<font size=4>2 Python数据类型-上</font>**\n",
    "\n",
    "**王晓宇&刘潇  机械科学与工程学院**\n",
    "\n",
    "本节要点包括：\n",
    "- 掌握Python环境安装过程，了解Python环境和模块管理；\n",
    "- 掌握Python基础语法，包括注释、缩进、输入输出、赋值等\n",
    "- 掌握数字类型的常用运算符、数学函数和模块\n",
    "- 掌握字符串类型的常用操作、方法、模块和格式化打印方法\n",
    "- 利用anaconda搭建Python开发环境，完成课后作业"
   ]
  },
  {
   "cell_type": "markdown",
   "metadata": {},
   "source": [
    "### Python基础语法"
   ]
  },
  {
   "cell_type": "code",
   "execution_count": 1,
   "metadata": {},
   "outputs": [
    {
     "name": "stdout",
     "output_type": "stream",
     "text": [
      "x is equal to y\n",
      "thanks!\n"
     ]
    }
   ],
   "source": [
    "#这是注释\n",
    "x = 1\n",
    "y = 1\n",
    "if x == y:\n",
    "    print(\"x is equal to y\")\n",
    "    ''' if y != 0:\n",
    "            print(\"therefore, x/y is\", x/y) '''\n",
    "elif x < y:\n",
    "    print(\"x is smaller than y\")\n",
    "else:\n",
    "    print(\"y is smaller than x\")\n",
    "print(\"thanks!\")"
   ]
  },
  {
   "cell_type": "markdown",
   "metadata": {},
   "source": [
    "### 输入输出"
   ]
  },
  {
   "cell_type": "code",
   "execution_count": 2,
   "metadata": {},
   "outputs": [
    {
     "name": "stdout",
     "output_type": "stream",
     "text": [
      "a = 1\n",
      "b = 1\n",
      "1 1\n",
      "1,1没有换行\n"
     ]
    }
   ],
   "source": [
    "a = int(input(\"a = \"))\n",
    "b = int(input(\"b = \"))\n",
    "print(a,b)\n",
    "print(a,b,sep=\",\",end=\"\")\n",
    "print(\"没有换行\")"
   ]
  },
  {
   "cell_type": "markdown",
   "metadata": {},
   "source": [
    "### 赋值"
   ]
  },
  {
   "cell_type": "code",
   "execution_count": null,
   "metadata": {},
   "outputs": [],
   "source": [
    "#一行赋值多个变量\n",
    "num1, num2, num3 = 1, 2, 3\n",
    "num4 = num5 = num6 = 4\n",
    "print(num5+num2)\n",
    "\n",
    "#字符串赋值\n",
    "str1 = \"我是\"\n",
    "str2 = \"字符串\"\n",
    "print(str1+str2)"
   ]
  },
  {
   "cell_type": "markdown",
   "metadata": {},
   "source": [
    "### 数字类型转换"
   ]
  },
  {
   "cell_type": "code",
   "execution_count": null,
   "metadata": {},
   "outputs": [],
   "source": [
    "a = 10 # int\n",
    "b = 5.5e5 # float\n",
    "c = 1 + 2j # complex\n",
    "\n",
    "#把整数转化为浮点数\n",
    "print(float(a))\n",
    "print(type(float(a)))\n",
    "\n",
    "#把整数转化为复数\n",
    "print(complex(a))\n",
    "print(type(complex(a)))\n",
    "\n",
    "#把浮点数转化为整数\n",
    "print(int(b))\n",
    "print(type(int(b)))"
   ]
  },
  {
   "cell_type": "markdown",
   "metadata": {},
   "source": [
    "### 其他进制"
   ]
  },
  {
   "cell_type": "code",
   "execution_count": 2,
   "metadata": {},
   "outputs": [
    {
     "name": "stdout",
     "output_type": "stream",
     "text": [
      "1\n",
      "2\n",
      "83\n",
      "154\n",
      "4\n"
     ]
    }
   ],
   "source": [
    "a = 1\n",
    "print(a)\n",
    "print(0b010)\n",
    "print(0o123)\n",
    "print(0x9a)\n",
    "\n",
    "#移位操作符 <<\n",
    "print(a<<2)"
   ]
  },
  {
   "cell_type": "markdown",
   "metadata": {},
   "source": [
    "### 四则运算_1"
   ]
  },
  {
   "cell_type": "code",
   "execution_count": 3,
   "metadata": {},
   "outputs": [
    {
     "name": "stdout",
     "output_type": "stream",
     "text": [
      "0.5\n",
      "7\n",
      "9\n",
      "-9\n",
      "9\n",
      "3.0\n"
     ]
    }
   ],
   "source": [
    "#Python3.x中1/2 = 0.5\n",
    "a = 1\n",
    "b = 2\n",
    "print(a/b)\n",
    "\n",
    "#运算顺序\n",
    "c = 3\n",
    "print(a+b*c)\n",
    "print((a+b)*c)\n",
    "\n",
    "print(-3**2)\n",
    "print((-3)**2)\n",
    "\n",
    "#不同类型间混合运算\n",
    "e = 2.0\n",
    "print(a+e)"
   ]
  },
  {
   "cell_type": "markdown",
   "metadata": {},
   "source": [
    "### 四则运算_2"
   ]
  },
  {
   "cell_type": "code",
   "execution_count": 6,
   "metadata": {},
   "outputs": [
    {
     "name": "stdout",
     "output_type": "stream",
     "text": [
      "3\n",
      "1\n",
      "-4\n",
      "-4\n",
      "3\n",
      "-2\n",
      "2\n",
      "-1\n"
     ]
    }
   ],
   "source": [
    "#整除\n",
    "print(10//3) #向下圆整\n",
    "#取余\n",
    "print(10%3)\n",
    "\n",
    "#负数整除\n",
    "print(10//-3)\n",
    "print(-10//3)\n",
    "print(-10//-3)\n",
    "#负数取余\n",
    "print(10%-3)\n",
    "print(-10%3)\n",
    "print(-10%-3)"
   ]
  },
  {
   "cell_type": "markdown",
   "metadata": {},
   "source": [
    "### 四则运算_3"
   ]
  },
  {
   "cell_type": "code",
   "execution_count": 5,
   "metadata": {},
   "outputs": [
    {
     "name": "stdout",
     "output_type": "stream",
     "text": [
      "0.30000000000000004\n",
      "0.4\n",
      "False\n",
      "True\n",
      "0.0001100110011001100110011001100110011001100110011001101\n",
      "0.1\n",
      "0.1000000000000000055511151231257827021181583404541015625\n"
     ]
    }
   ],
   "source": [
    "#浮点数间运算存在不确定尾数\n",
    "a = 0.1\n",
    "b = 0.2\n",
    "c = 0.3\n",
    "print(a+b)\n",
    "print(a+c)\n",
    "print(a+b == 0.3)\n",
    "print(round(a+b,1) == 0.3)\n",
    "\n",
    "#十进制小数转化为二进制小数(乘2取整)\n",
    "def dec2bin(x):\n",
    "    x -= int(x)\n",
    "    bins = ['0','.']\n",
    "    while x:\n",
    "        x *= 2\n",
    "        bins.append('1' if x>=1. else '0')\n",
    "        x -= int(x)\n",
    "    return ''.join(bins)\n",
    "\n",
    "#二进制小数转化为十进制小数(乘2^(-n))\n",
    "def bin2dec(x):\n",
    "    x_tmp = list(x)\n",
    "    del x_tmp[0:2]\n",
    "    y = 0\n",
    "    for i, x in enumerate(x_tmp):\n",
    "        y += 2**(-i-1)*int(x)\n",
    "    return y\n",
    "\n",
    "print(dec2bin(0.1))\n",
    "print(bin2dec(dec2bin(0.1)))\n",
    "print(\"{0:.55f}\".format(bin2dec(dec2bin(0.1))))\n",
    "\n",
    "#from decimal import *\n",
    "#print(Decimal(0.1))"
   ]
  },
  {
   "cell_type": "markdown",
   "metadata": {},
   "source": [
    "### random模块"
   ]
  },
  {
   "cell_type": "code",
   "execution_count": 7,
   "metadata": {},
   "outputs": [
    {
     "name": "stdout",
     "output_type": "stream",
     "text": [
      "1\n",
      "0.8274195652516325\n",
      "3.8248037463924995\n",
      "r\n",
      "31\n",
      "[6, 7, 3, 1, 5]\n"
     ]
    }
   ],
   "source": [
    "import random\n",
    "print( random.randint(1,10) )        # 产生 1 到 10 的一个整数型随机数  \n",
    "print( random.random() )             # 产生 0 到 1 之间的随机浮点数\n",
    "print( random.uniform(1.1,5.4) )     # 产生  1.1 到 5.4 之间的随机浮点数，区间可以不是整数\n",
    "print( random.choice('tomorrow') )   # 从序列中随机选取一个元素\n",
    "print( random.randrange(1,100,2) )   # 生成从1到100的间隔为2的随机整数\n",
    "\n",
    "a=[1,3,5,6,7]                # 将序列a中的元素顺序打乱\n",
    "random.shuffle(a)\n",
    "print(a)"
   ]
  },
  {
   "cell_type": "markdown",
   "metadata": {},
   "source": [
    "### math和random模块计算圆周率"
   ]
  },
  {
   "cell_type": "code",
   "execution_count": 8,
   "metadata": {},
   "outputs": [
    {
     "name": "stdout",
     "output_type": "stream",
     "text": [
      "Pi的值是 3.141368865966797\n",
      "程序运行时间是 25.428142207000064 s\n"
     ]
    }
   ],
   "source": [
    "import random, math, time\n",
    "DARTS = int(2**25)\n",
    "hits = 0\n",
    "start_time = time.perf_counter()\n",
    "for i in range(1,DARTS):\n",
    "    x, y = random.random(), random.random()\n",
    "    dist = math.sqrt(x**2 + y**2)\n",
    "    if dist <= 1.0:\n",
    "        hits = hits + 1\n",
    "pi = 4 * (hits/DARTS)\n",
    "print(\"Pi的值是\", pi)\n",
    "during_time = time.perf_counter() - start_time\n",
    "print(\"程序运行时间是\", during_time, \"s\")"
   ]
  },
  {
   "cell_type": "markdown",
   "metadata": {},
   "source": [
    "### 字符串"
   ]
  },
  {
   "cell_type": "code",
   "execution_count": 9,
   "metadata": {},
   "outputs": [
    {
     "name": "stdout",
     "output_type": "stream",
     "text": [
      " \n",
      "print(\"hello world!\")\n",
      "\n",
      "这里有个单引号'\n",
      "这里有个双引号\"\n",
      "这里既有单引号',还有双引号\"\n"
     ]
    }
   ],
   "source": [
    "#三单引号注释\n",
    "''' \n",
    "print(\"hello world!\")\n",
    "'''\n",
    "#三单引号字符串赋值\n",
    "a = ''' \n",
    "print(\"hello world!\")\n",
    "'''\n",
    "print(a)\n",
    "\n",
    "print(\"这里有个单引号'\")\n",
    "print('这里有个双引号\"')\n",
    "print('''这里既有单引号',还有双引号\"''')"
   ]
  },
  {
   "cell_type": "markdown",
   "metadata": {},
   "source": [
    "### 转义字符"
   ]
  },
  {
   "cell_type": "code",
   "execution_count": 10,
   "metadata": {},
   "outputs": [
    {
     "name": "stdout",
     "output_type": "stream",
     "text": [
      "Let's go!\n",
      "Let's go!\n",
      "Let's say \"hello world!\"\n",
      "C:\\Windows\\System32\\nrivers\n",
      "hello\bworld!\n",
      "hello \n",
      "world!\n",
      "hello \r",
      "world!\n",
      "hello world!\n",
      "10\n"
     ]
    }
   ],
   "source": [
    "print(\"Let's go!\")\n",
    "print('Let\\'s go!')\n",
    "print('Let\\'s say \"hello world!\"')\n",
    "print(\"C:\\\\Windows\\\\System32\\\\nrivers\")\n",
    "\n",
    "#退格符(光标向前移动一格)\n",
    "print(\"hello\\bworld!\")\n",
    "#换行符(光标移动到下行首)\n",
    "print(\"hello \\nworld!\")\n",
    "#回车符(光标移动到本行首)\n",
    "print(\"hello \\rworld!\")\n",
    "\n",
    "#表达式换行\n",
    "print \\\n",
    "(\"hello world!\")\n",
    "print(1 + 2 \\\n",
    "+ 3 + 4)"
   ]
  },
  {
   "cell_type": "markdown",
   "metadata": {},
   "source": [
    "### 字符串索引"
   ]
  },
  {
   "cell_type": "code",
   "execution_count": 11,
   "metadata": {},
   "outputs": [
    {
     "name": "stdout",
     "output_type": "stream",
     "text": [
      "e  \n",
      "d\n",
      "input Year:2020\n",
      "0\n",
      "<class 'str'>\n"
     ]
    },
    {
     "ename": "IndexError",
     "evalue": "string index out of range",
     "output_type": "error",
     "traceback": [
      "\u001b[1;31m---------------------------------------------------------------------------\u001b[0m",
      "\u001b[1;31mIndexError\u001b[0m                                Traceback (most recent call last)",
      "\u001b[1;32m<ipython-input-11-c7d54d279e27>\u001b[0m in \u001b[0;36m<module>\u001b[1;34m\u001b[0m\n\u001b[0;32m      6\u001b[0m \u001b[0mprint\u001b[0m\u001b[1;33m(\u001b[0m\u001b[0myear\u001b[0m\u001b[1;33m[\u001b[0m\u001b[1;36m3\u001b[0m\u001b[1;33m]\u001b[0m\u001b[1;33m)\u001b[0m\u001b[1;33m\u001b[0m\u001b[1;33m\u001b[0m\u001b[0m\n\u001b[0;32m      7\u001b[0m \u001b[0mprint\u001b[0m\u001b[1;33m(\u001b[0m\u001b[0mtype\u001b[0m\u001b[1;33m(\u001b[0m\u001b[0myear\u001b[0m\u001b[1;33m[\u001b[0m\u001b[1;36m3\u001b[0m\u001b[1;33m]\u001b[0m\u001b[1;33m)\u001b[0m\u001b[1;33m)\u001b[0m\u001b[1;33m\u001b[0m\u001b[1;33m\u001b[0m\u001b[0m\n\u001b[1;32m----> 8\u001b[1;33m \u001b[0mprint\u001b[0m\u001b[1;33m(\u001b[0m\u001b[0myear\u001b[0m\u001b[1;33m[\u001b[0m\u001b[1;36m4\u001b[0m\u001b[1;33m]\u001b[0m\u001b[1;33m)\u001b[0m\u001b[1;33m\u001b[0m\u001b[1;33m\u001b[0m\u001b[0m\n\u001b[0m",
      "\u001b[1;31mIndexError\u001b[0m: string index out of range"
     ]
    }
   ],
   "source": [
    "a = \"hello world!\"\n",
    "print(a[1],a[5])\n",
    "print(a[-2])\n",
    "\n",
    "year = input(\"input Year:\")\n",
    "print(year[3])\n",
    "print(type(year[3]))\n",
    "print(year[4])"
   ]
  },
  {
   "cell_type": "markdown",
   "metadata": {},
   "source": [
    "### 字符串切片"
   ]
  },
  {
   "cell_type": "code",
   "execution_count": null,
   "metadata": {},
   "outputs": [],
   "source": [
    "a = \"hello world!\"\n",
    "print(a[1:3])\n",
    "#字符串的长度\n",
    "len(a)\n",
    "\n",
    "tag = '<a href=\"http://www.python.org\">Python web site</a>'\n",
    "print(tag[9:30])\n",
    "print(tag[32:-4])\n",
    "#索引到末尾\n",
    "print(tag[32:])\n",
    "#从头索引\n",
    "print(tag[:9])\n",
    "\n",
    "#更大的步长\n",
    "number = \"123456789\"\n",
    "print(number[1:9:2])\n",
    "print(number[9:1:-2])\n",
    "print(number[::2])\n",
    "print(number[::-2])"
   ]
  },
  {
   "cell_type": "markdown",
   "metadata": {},
   "source": [
    "### 相加和相乘"
   ]
  },
  {
   "cell_type": "code",
   "execution_count": 12,
   "metadata": {},
   "outputs": [
    {
     "name": "stdout",
     "output_type": "stream",
     "text": [
      "hello,world!\n",
      "hello,hello,hello,hello,hello,\n",
      "97927728 97927728 97927728 98279056 98511488\n",
      "replace hello, hello,\n",
      "32284400 97927728 97927728\n"
     ]
    }
   ],
   "source": [
    "a = \"hello,\"\n",
    "b = \"world!\"\n",
    "print(a+b)\n",
    "print(a*5)\n",
    "\n",
    "#短字符串缓存，长字符串分配内存\n",
    "c = a*1\n",
    "d = a*1\n",
    "e = a*5\n",
    "f = a*5\n",
    "print(id(a),id(c),id(d),id(e),id(f))\n",
    "\n",
    "#重新赋值重新申请内存\n",
    "a = \"replace\"\n",
    "print(a,c,d)\n",
    "print(id(a),id(c),id(d))"
   ]
  },
  {
   "cell_type": "markdown",
   "metadata": {},
   "source": [
    "### 相乘示例"
   ]
  },
  {
   "cell_type": "code",
   "execution_count": null,
   "metadata": {},
   "outputs": [],
   "source": [
    "text = input(\"Please input text:\")\n",
    "\n",
    "screen_width = 100\n",
    "text_width = len(text)\n",
    "body_width = (screen_width + text_width)/2\n",
    "\n",
    "#打印格式化文本\n",
    "print(\" \"*int((screen_width - body_width)/2) + \"+\" + \"-\"*int(body_width - 2) + \"+\" + \" \"*int((screen_width - body_width)/2))\n",
    "print(\" \"*int((screen_width - body_width)/2) + \"|\" + \" \"*int(body_width - 2) + \"|\" + \" \"*int((screen_width - body_width)/2))\n",
    "print(\" \"*int((screen_width - body_width)/2) + \"|\" + \" \"*int((body_width - 2 - text_width)/2) + text + \" \"*int((body_width - 2 - text_width)/2) + \"|\" + \" \"*int((screen_width - body_width)/2))\n",
    "print(\" \"*int((screen_width - body_width)/2) + \"|\" + \" \"*int(body_width - 2) + \"|\" + \" \"*int((screen_width - body_width)/2))\n",
    "print(\" \"*int((screen_width - body_width)/2) + \"+\" + \"-\"*int(body_width - 2) + \"+\" + \" \"*int((screen_width - body_width)/2))"
   ]
  },
  {
   "cell_type": "markdown",
   "metadata": {},
   "source": [
    "### 成员资格检查"
   ]
  },
  {
   "cell_type": "code",
   "execution_count": 13,
   "metadata": {},
   "outputs": [
    {
     "name": "stdout",
     "output_type": "stream",
     "text": [
      "True\n",
      "True\n",
      "h e l l o   w o r l d ! "
     ]
    }
   ],
   "source": [
    "s = \"hello world!\"\n",
    "print(\"e\" in s)\n",
    "print(\"el\" in s)\n",
    "\n",
    "for ch in \"hello world!\":\n",
    "    print(ch, end = \" \")"
   ]
  },
  {
   "cell_type": "markdown",
   "metadata": {},
   "source": [
    "### 字符串方法center"
   ]
  },
  {
   "cell_type": "code",
   "execution_count": null,
   "metadata": {},
   "outputs": [],
   "source": [
    "text = input(\"Please input text:\")\n",
    "\n",
    "screen_width = 100\n",
    "text_width = len(text)\n",
    "body_width = (screen_width + text_width)/2\n",
    "\n",
    "first_line = \"+\" + \"-\".center(int(body_width - 2), \"-\") + \"+\"\n",
    "second_line = \"|\" + \" \".center(int(body_width - 2)) + \"|\"\n",
    "third_line = \"|\" + text.center(int(body_width - 2)) + \"|\"\n",
    "\n",
    "#打印格式化文本\n",
    "print(first_line.center(screen_width))\n",
    "print(second_line.center(screen_width))\n",
    "print(third_line.center(screen_width))\n",
    "print(second_line.center(screen_width))\n",
    "print(first_line.center(screen_width))"
   ]
  },
  {
   "cell_type": "markdown",
   "metadata": {},
   "source": [
    "### 字符串替换replace"
   ]
  },
  {
   "cell_type": "code",
   "execution_count": 17,
   "metadata": {},
   "outputs": [
    {
     "name": "stdout",
     "output_type": "stream",
     "text": [
      "Theez eez a test 98545520 98578560\n",
      "Theez is a test\n",
      "is\n"
     ]
    },
    {
     "ename": "TypeError",
     "evalue": "'str' object does not support item assignment",
     "output_type": "error",
     "traceback": [
      "\u001b[1;31m---------------------------------------------------------------------------\u001b[0m",
      "\u001b[1;31mTypeError\u001b[0m                                 Traceback (most recent call last)",
      "\u001b[1;32m<ipython-input-17-3a260b65fe4e>\u001b[0m in \u001b[0;36m<module>\u001b[1;34m\u001b[0m\n\u001b[0;32m      9\u001b[0m \u001b[1;31m#能不能利用索引替换？\u001b[0m\u001b[1;33m\u001b[0m\u001b[1;33m\u001b[0m\u001b[1;33m\u001b[0m\u001b[0m\n\u001b[0;32m     10\u001b[0m \u001b[0mprint\u001b[0m\u001b[1;33m(\u001b[0m\u001b[0ma\u001b[0m\u001b[1;33m[\u001b[0m\u001b[1;36m2\u001b[0m\u001b[1;33m:\u001b[0m\u001b[1;36m4\u001b[0m\u001b[1;33m]\u001b[0m\u001b[1;33m)\u001b[0m\u001b[1;33m\u001b[0m\u001b[1;33m\u001b[0m\u001b[0m\n\u001b[1;32m---> 11\u001b[1;33m \u001b[0ma\u001b[0m\u001b[1;33m[\u001b[0m\u001b[1;36m2\u001b[0m\u001b[1;33m:\u001b[0m\u001b[1;36m4\u001b[0m\u001b[1;33m]\u001b[0m \u001b[1;33m=\u001b[0m \u001b[1;34m\"eez\"\u001b[0m\u001b[1;33m\u001b[0m\u001b[1;33m\u001b[0m\u001b[0m\n\u001b[0m",
      "\u001b[1;31mTypeError\u001b[0m: 'str' object does not support item assignment"
     ]
    }
   ],
   "source": [
    "a = \"This is a test\"\n",
    "\n",
    "#将a中的is替换为eez\n",
    "b = a.replace(\"is\",\"eez\")\n",
    "print(b, id(a), id(b))\n",
    "\n",
    "#能不能利用索引替换？\n",
    "print(a[2:4])\n",
    "a[2:4] = \"eez\""
   ]
  },
  {
   "cell_type": "markdown",
   "metadata": {},
   "source": [
    "### re模块 match函数"
   ]
  },
  {
   "cell_type": "code",
   "execution_count": 18,
   "metadata": {},
   "outputs": [
    {
     "name": "stdout",
     "output_type": "stream",
     "text": [
      "<re.Match object; span=(0, 6), match='python'>\n",
      "<re.Match object; span=(0, 4), match='pyth'>\n",
      "<re.Match object; span=(0, 6), match='python'>\n",
      "None\n",
      "<re.Match object; span=(0, 6), match='python'>\n",
      "<re.Match object; span=(0, 5), match='pytho'>\n",
      "5\n"
     ]
    }
   ],
   "source": [
    "import re\n",
    "a = \"python\"\n",
    "print(re.match(\"python\",a))\n",
    "print(re.match(\"pyt.\",a))\n",
    "print(re.match(\"python.*\",a))\n",
    "print(re.match(\"python.+\",a))\n",
    "print(re.match(\"pyth.{1,2}\",a))\n",
    "print(re.match(\"pyth.{1,2}?\",a))\n",
    "print(re.match(\"pyth.{1,2}?\",a).end())"
   ]
  },
  {
   "cell_type": "markdown",
   "metadata": {},
   "source": [
    "### re模块 search函数"
   ]
  },
  {
   "cell_type": "code",
   "execution_count": 19,
   "metadata": {},
   "outputs": [
    {
     "name": "stdout",
     "output_type": "stream",
     "text": [
      "<re.Match object; span=(0, 6), match='python'>\n",
      "None\n",
      "<re.Match object; span=(2, 6), match='thon'>\n",
      "<re.Match object; span=(0, 6), match='python'>\n",
      "None\n",
      "<re.Match object; span=(0, 6), match='python'>\n",
      "<re.Match object; span=(0, 6), match='python'>\n"
     ]
    }
   ],
   "source": [
    "import re\n",
    "a = \"python\"\n",
    "print(re.search(\"python\",a))\n",
    "print(re.match(\".hon\",a))\n",
    "print(re.search(\".hon\",a))\n",
    "print(re.search(\".*python\",a))\n",
    "print(re.search(\".+python\",a))\n",
    "print(re.search(\".{1,2}thon\",a))\n",
    "print(re.search(\".{1,2}?thon\",a))"
   ]
  },
  {
   "cell_type": "markdown",
   "metadata": {},
   "source": [
    "### re模块 正则表达式"
   ]
  },
  {
   "cell_type": "code",
   "execution_count": 20,
   "metadata": {},
   "outputs": [
    {
     "name": "stdout",
     "output_type": "stream",
     "text": [
      "<re.Match object; span=(0, 10), match='c:\\\\123.bmp'>\n",
      "<re.Match object; span=(0, 11), match='d:\\\\\\\\123.bmp'>\n",
      "None\n"
     ]
    }
   ],
   "source": [
    "pattern = re.compile(r'^[A-Z]:\\\\{1,2}[^/:\\*\\?<>\\|\\\\]+\\.(jpg|gif|png|bmp)$', re.I)\n",
    "a = r\"c:\\123.bmp\"\n",
    "b = r\"d:\\\\123.bmp\"\n",
    "c = r\"E:\\test\\123.bmp\"\n",
    "\n",
    "print(pattern.match(a))\n",
    "print(pattern.match(b))\n",
    "print(pattern.match(c))"
   ]
  },
  {
   "cell_type": "markdown",
   "metadata": {},
   "source": [
    "### Unicode编码转换（https://unicode-table.com/en/）"
   ]
  },
  {
   "cell_type": "code",
   "execution_count": 21,
   "metadata": {},
   "outputs": [
    {
     "name": "stdout",
     "output_type": "stream",
     "text": [
      "ʱ\n",
      "♠\n",
      "↢\n",
      "b'\\xe4\\xb8\\xad\\xe5\\x9b\\xbd'\n",
      "中国\n"
     ]
    }
   ],
   "source": [
    "print(\"\\u02B1\")\n",
    "print(\"\\u2660\")\n",
    "print(\"\\u21A2\")\n",
    "\n",
    "#编码与解码\n",
    "print(\"中国\".encode(\"utf-8\"))\n",
    "print(b'\\xe4\\xb8\\xad\\xe5\\x9b\\xbd'.decode())"
   ]
  },
  {
   "cell_type": "markdown",
   "metadata": {},
   "source": [
    "### 格式化字符串"
   ]
  },
  {
   "cell_type": "code",
   "execution_count": null,
   "metadata": {},
   "outputs": [],
   "source": [
    "#替换字段\n",
    "print(\"{}:计算机{}的CPU占用率为{}%\".format(\"2020-09-01\", \"C\", 10))\n",
    "print(\"{1}:计算机{2}的CPU占用率为{0}%\".format(10, \"2020-09-01\", \"C\"))\n",
    "print(\"{para1}:计算机{para2}的CPU占用率为{}%\".format(10, para1 = \"2020-09-01\",para2 = \"C\"))\n",
    "\n",
    "#格式说明符\n",
    "print(\"{0:=>40}\".format(\"Hello world!\"))\n",
    "print(\"{pi:,.10f}\".format(pi = 3.14))\n"
   ]
  },
  {
   "cell_type": "markdown",
   "metadata": {},
   "source": [
    "### 课后作业1 格式化打印价格列表，请补全如下代码"
   ]
  },
  {
   "cell_type": "code",
   "execution_count": null,
   "metadata": {},
   "outputs": [],
   "source": [
    "#定义各输出字段的宽度\n",
    "width = input(\"请输入价格表总字符宽度：\")\n",
    "price_width = 10\n",
    "############补充代码#############\n",
    "\n",
    "#################################\n",
    "item_width = width - price_width\n",
    "\n",
    "############补充代码#############\n",
    "#定义格式化方式\n",
    "head = \n",
    "body = \n",
    "#################################\n",
    "\n",
    "#打印价格列表\n",
    "print(\"=\"*width)\n",
    "print(head.format(\"Item\",\"Price\"))\n",
    "print(\"-\"*width)\n",
    "print(body.format(\"Apple\",4.0))\n",
    "print(body.format(\"Watermelon\",2.0))\n",
    "print(body.format(\"Peach\",5.0))\n",
    "print(\"=\"*width)"
   ]
  },
  {
   "cell_type": "markdown",
   "metadata": {},
   "source": [
    "### 课后作业2 打印格式化动态进度条"
   ]
  },
  {
   "cell_type": "code",
   "execution_count": null,
   "metadata": {},
   "outputs": [],
   "source": [
    "import random, math, time\n",
    "DARTS = int(2**20)\n",
    "hits = 0\n",
    "\n",
    "############补充代码#############\n",
    "\n",
    "#################################\n",
    "\n",
    "start_time = time.perf_counter()\n",
    "for i in range(1,DARTS):\n",
    "    x, y = random.random(), random.random()\n",
    "    dist = math.sqrt(x**2 + y**2)\n",
    "    if dist <= 1.0:\n",
    "        hits = hits + 1\n",
    "    #进度百分比\n",
    "    percentage = round(i/DARTS*100)\n",
    "    star = \"*\"*round(i/DARTS*50)\n",
    "    dot = \".\"*(50-round(i/DARTS*50))\n",
    "    during_time = time.perf_counter() - start_time\n",
    "    ############补充代码#############\n",
    "    print(\"\\r{}\".format(), end = \"\")\n",
    "    #################################\n",
    "\n",
    "############补充代码#############\n",
    "\n",
    "#################################\n",
    "\n",
    "pi = 4 * (hits/DARTS)\n",
    "print(\"Pi的值是\", pi)\n",
    "during_time = time.perf_counter() - start_time\n",
    "print(\"程序运行时间是\", during_time)"
   ]
  }
 ],
 "metadata": {
  "kernelspec": {
   "display_name": "Python 3",
   "language": "python",
   "name": "python3"
  },
  "language_info": {
   "codemirror_mode": {
    "name": "ipython",
    "version": 3
   },
   "file_extension": ".py",
   "mimetype": "text/x-python",
   "name": "python",
   "nbconvert_exporter": "python",
   "pygments_lexer": "ipython3",
   "version": "3.8.3"
  }
 },
 "nbformat": 4,
 "nbformat_minor": 4
}
