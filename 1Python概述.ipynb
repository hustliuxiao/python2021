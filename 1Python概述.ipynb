{
 "cells": [
  {
   "cell_type": "markdown",
   "metadata": {},
   "source": [
    "## 《Python程序设计》2021秋季\n",
    "**<font size=4>1 Python概述</font>**\n",
    "\n",
    "**王晓宇&刘潇  机械科学与工程学院**\n",
    "\n",
    "本节要点包括：\n",
    "- 了解Python的发展历史和设计哲学；\n",
    "- 了解Python相比于其他编程语言的特点；\n",
    "- 掌握Python环境安装过程，了解Python环境和模块管理；\n",
    "- 利用anaconda搭建Python开发环境。"
   ]
  },
  {
   "cell_type": "markdown",
   "metadata": {},
   "source": [
    "### 第一行Python代码"
   ]
  },
  {
   "cell_type": "code",
   "execution_count": null,
   "metadata": {},
   "outputs": [],
   "source": [
    "print(\"hello world!\")"
   ]
  },
  {
   "cell_type": "markdown",
   "metadata": {},
   "source": [
    "### 强大的Python模块\n",
    "$$A=\\begin{bmatrix}\n",
    "3 & 2  \\\\\n",
    "2 & 6  \\\\\n",
    "\\end{bmatrix}$$\n",
    "\n",
    "$$B=\\begin{bmatrix}\n",
    "2 & 2 \\\\\n",
    "-8 & 3 \\\\\n",
    "\\end{bmatrix}$$\n",
    "### 计算矩阵A和矩阵B的乘积"
   ]
  },
  {
   "cell_type": "code",
   "execution_count": null,
   "metadata": {},
   "outputs": [],
   "source": [
    "# 加载模块\n",
    "import numpy\n",
    "\n",
    "# 定义矩阵\n",
    "A = numpy.array([[3,2],[2,6]])\n",
    "B = numpy.array([[2,2],[-8,3]])\n",
    "\n",
    "# 计算乘积并输出\n",
    "print(numpy.dot(A,B))\n",
    "print(A*B)"
   ]
  },
  {
   "cell_type": "markdown",
   "metadata": {},
   "source": [
    "### 第一个Python GUI窗口"
   ]
  },
  {
   "cell_type": "code",
   "execution_count": null,
   "metadata": {},
   "outputs": [],
   "source": [
    "# 加载wx模块\n",
    "import wx\n",
    "\n",
    "# 创建一个应用程序对象\n",
    "app = wx.App(False)\n",
    "\n",
    "# 创建一个顶层框架对象\n",
    "frame = wx.Frame(None, wx.ID_ANY, \"Hello, World!\")\n",
    "\n",
    "# 显示框架\n",
    "frame.Show(True)\n",
    "\n",
    "# 运行程序\n",
    "app.MainLoop()"
   ]
  }
 ],
 "metadata": {
  "kernelspec": {
   "display_name": "Python 3",
   "language": "python",
   "name": "python3"
  },
  "language_info": {
   "codemirror_mode": {
    "name": "ipython",
    "version": 3
   },
   "file_extension": ".py",
   "mimetype": "text/x-python",
   "name": "python",
   "nbconvert_exporter": "python",
   "pygments_lexer": "ipython3",
   "version": "3.8.3"
  }
 },
 "nbformat": 4,
 "nbformat_minor": 4
}
